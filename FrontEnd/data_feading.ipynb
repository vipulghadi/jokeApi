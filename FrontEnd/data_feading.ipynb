{
 "cells": [
  {
   "cell_type": "code",
   "execution_count": 3,
   "metadata": {},
   "outputs": [],
   "source": [
    "\n",
    " import requests\n",
    "\n",
    "\n",
    "from bs4 import BeautifulSoup\n",
    "\n",
    "jokes=[]\n",
    "\n",
    "#method to adextract jokes\n",
    "def extract_blackquote_content(url):\n",
    "    # Make a request to the webpage\n",
    "    response = requests.get(url)\n",
    "\n",
    "    # Check if the request was successful\n",
    "    if response.status_code == 200:\n",
    "        # Parse the HTML content of the webpage\n",
    "        soup = BeautifulSoup(response.text, 'html.parser')\n",
    "\n",
    "        # Find all <blackquote> tags and extract their content\n",
    "        blackquote_tags = soup.find_all('blockquote')\n",
    "        for tag in blackquote_tags:\n",
    "            # Print or process the content as needed\n",
    "            jokes.append(tag.text)\n",
    "\n",
    "    else:\n",
    "        print(f\"Failed to retrieve the webpage. Status code: {response.status_code}\")\n",
    "\n",
    "# Replace 'your_webpage_url' with the actual URL of the webpage\n",
    "webpage_url = 'https://befunky.in/hindi-jokes/'\n",
    "extract_blackquote_content(webpage_url)\n",
    "import re\n",
    "\n",
    "def remove_escape_numbers_letters(input_string):\n",
    "    # Remove escape characters\n",
    "    cleaned_string = re.sub(r'\\\\.', '', input_string)\n",
    "\n",
    "    # Remove numbers and English alphabets\n",
    "    cleaned_string = re.sub(r'[0-9a-zA-Z]', '', cleaned_string)\n",
    "\n",
    "    return cleaned_string\n",
    "\n",
    "# Example usage:\n",
    "new_jokes=[]\n",
    "for j in jokes:\n",
    "    new=remove_escape_numbers_letters(j)\n",
    "   \n",
    "    new_jokes.append(new)\n",
    "\n",
    "final_result=[]\n",
    "for j in new_jokes:\n",
    "    new_str=[]\n",
    "    for alpha in j:\n",
    "         if alpha!='\\n':new_str.append(alpha)\n",
    "    new_str=\"\".join(new_str)\n",
    "    final_result.append(new_str)\n",
    "    "
   ]
  },
  {
   "cell_type": "code",
   "execution_count": 4,
   "metadata": {},
   "outputs": [],
   "source": [
    "\n",
    "jokes=final_result\n",
    "\n",
    "\n",
    "\n",
    "for i in range(len(jokes)):\n",
    "    r=requests.post(data={\"desc\":jokes[i]},url=\"http://localhost:8000/create-joke/\")"
   ]
  },
  {
   "cell_type": "code",
   "execution_count": null,
   "metadata": {},
   "outputs": [],
   "source": []
  }
 ],
 "metadata": {
  "kernelspec": {
   "display_name": "Python 3",
   "language": "python",
   "name": "python3"
  },
  "language_info": {
   "codemirror_mode": {
    "name": "ipython",
    "version": 3
   },
   "file_extension": ".py",
   "mimetype": "text/x-python",
   "name": "python",
   "nbconvert_exporter": "python",
   "pygments_lexer": "ipython3",
   "version": "3.10.2"
  }
 },
 "nbformat": 4,
 "nbformat_minor": 2
}
